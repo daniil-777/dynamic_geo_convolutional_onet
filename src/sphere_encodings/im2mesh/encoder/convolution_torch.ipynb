def knn_find(points, k: int):
    """find indexes of k nearest points for every point in "points" array

        Parameters
        ----------
        points   : np.array 
                   set of 3d points [N*3]
        k        : int
                   number of nearest neighbours

        Returns
        -------
        tensor [N*k] - for every point indexes of k nearest neighbours
        """
    
    graph = kneighbors_graph(points, k, mode='connectivity', include_self=False)
    array_neighbours = graph.toarray()

    # return torch.from_numpy(array_neighbours)
    return array_neighbours

def kernel(weights, point):
    """calculates H(W, X)
    """
    new_point = torch.cat((torch.tensor([1.]), a), dim=0)
#     answer = weights.dot(new_point)/(weights[1:].norm(p=2))
    answer = weights.dot(new_point)
    
#     print(answer)
    return answer


def final_kernel(points, i, weights, channel, k, id_neighbours):
    """calculates 1/(1 + exp(H(W, X)))
    """
#     print(weights[channel])
    pc_first = 1/k*sum([kernel(weights[channel], points[id_neighbour] - points[i]) for id_neighbour in id_neighbours if id_neighbour!=i])
    pc_final = 1/(1. + np.power(2.73, pc_first.numpy()))
    return pc_final


def convolution(points, k, weights, channels):
    
    """creates features for every point
    Parameters
        ----------
        points   : torch.tensor
                   set of 3d points [N*3]
        k        : int
                   number of nearest neighbours
        weights  : torch.tensor
                   set of weights [channels*4]
        channels : int
                   number of channels

        Returns
        -------
        tensor [N*channels] - for every point "channels" features
    
    """

    number_points = points.shape[0]
    array_features = torch.zeros([number_points, channels], dtype=torch.int32)
    for i in range(number_points):
        dist = torch.norm(points - points[i], dim=1, p=None)
        id_neighbours = dist.topk(k+1, largest=False).indices
        array_features[i] =torch.tensor([final_kernel(
            points, i, weights, channel, k, id_neighbours)  for channel in np.arange(0, channels, 1)])
    return array_features